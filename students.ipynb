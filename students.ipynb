{
 "cells": [
  {
   "cell_type": "code",
   "execution_count": 3,
   "metadata": {},
   "outputs": [],
   "source": [
    "# Load Required Libraries\n",
    "import pandas as pd\n",
    "import numpy as np\n",
    "import matplotlib.pyplot as plt\n",
    "import re\n",
    "import datetime"
   ]
  },
  {
   "cell_type": "code",
   "execution_count": 4,
   "metadata": {},
   "outputs": [],
   "source": [
    "# Load excel file into pandas dataframe\n",
    "df = pd.read_excel(\"PackageWiseAdmission.xlsx\", index_col=None)\n",
    "df.dropna(subset=['Course Package'], inplace=True)\n",
    "#df = df[(df['Lead Stage'] != 'Dropped Out') & (df['Admission Status'] != 'Dropped Out')]"
   ]
  },
  {
   "cell_type": "code",
   "execution_count": 5,
   "metadata": {},
   "outputs": [
    {
     "data": {
      "text/plain": [
       "Course Package                       0\n",
       "Academic Year                        0\n",
       "Enquiry Date                         0\n",
       "Registration No.                     0\n",
       "Admission Batch                      1\n",
       "Training Program Funding Source      5\n",
       "Start Date                           0\n",
       "Expected End Date                    0\n",
       "Admission Date                       0\n",
       "Student Name                         0\n",
       "Lead Source                          0\n",
       "Counsellor                           0\n",
       "Counselor email                    108\n",
       "Gender                               2\n",
       "Admission Status                     0\n",
       "State                                0\n",
       "Status Date                          0\n",
       "Lead Stage                           0\n",
       "Package Amount                       0\n",
       "Placement Salary Range             315\n",
       "Placement Job Title                248\n",
       "Placement Information              150\n",
       "Placement Employer                 244\n",
       "Placement Remark                   208\n",
       "Assigned Career center               0\n",
       "dtype: int64"
      ]
     },
     "execution_count": 5,
     "metadata": {},
     "output_type": "execute_result"
    }
   ],
   "source": [
    "# Inspect dataframe\n",
    "df.columns\n",
    "df.dtypes\n",
    "df.shape\n",
    "df.isnull().sum()"
   ]
  },
  {
   "cell_type": "code",
   "execution_count": 7,
   "metadata": {},
   "outputs": [],
   "source": [
    "# Simplify package names by eliminating unnecessary characters and words\n",
    "df[\"Course Package\"] = df[\"Course Package\"].apply(lambda x: x.split('_', 1)[1] if '_' in str(x) else x)\n",
    "df[\"Course Package\"] = df[\"Course Package\"].apply(lambda x: x.split('_Pack')[0] if '_Package' in str(x) else x)\n",
    "df[\"Course Package\"] = df[\"Course Package\"].apply(lambda x: x.split('_', 1)[1] if '_' in str(x) else x)\n",
    "df[\"Lead Source\"] = df[\"Lead Source\"].apply(lambda x: x.split('_')[1] if '_' in str(x) else x)"
   ]
  },
  {
   "cell_type": "code",
   "execution_count": 11,
   "metadata": {},
   "outputs": [
    {
     "data": {
      "text/plain": [
       "Index(['Course Package', 'Academic Year', 'Enquiry Date', 'Registration No.',\n",
       "       'Admission Batch', 'Training Program Funding Source', 'Start Date',\n",
       "       'Expected End Date', 'Admission Date', 'Student Name', 'Lead Source',\n",
       "       'Counsellor', 'Counselor email', 'Gender', 'Admission Status', 'State',\n",
       "       'Status Date', 'Lead Stage', 'Package Amount', 'Placement Salary Range',\n",
       "       'Placement Job Title', 'Placement Information', 'Placement Employer',\n",
       "       'Placement Remark', 'Assigned Career center'],\n",
       "      dtype='object')"
      ]
     },
     "execution_count": 11,
     "metadata": {},
     "output_type": "execute_result"
    }
   ],
   "source": [
    "df.columns"
   ]
  },
  {
   "cell_type": "code",
   "execution_count": 12,
   "metadata": {},
   "outputs": [],
   "source": [
    "df.rename(columns={\"Enquiry Date\": \"Inquiry Date\"}, inplace=True)"
   ]
  },
  {
   "cell_type": "code",
   "execution_count": 13,
   "metadata": {},
   "outputs": [],
   "source": [
    "# Transform the date columns into the datetime data type\n",
    "date_columns = ['Inquiry Date','Start Date','Expected End Date']\n",
    "df[date_columns] = df[date_columns].apply(pd.to_datetime)"
   ]
  },
  {
   "cell_type": "code",
   "execution_count": 14,
   "metadata": {},
   "outputs": [
    {
     "data": {
      "text/plain": [
       "Index(['Course Package', 'Academic Year', 'Inquiry Date', 'Registration No.',\n",
       "       'Admission Batch', 'Training Program Funding Source', 'Start Date',\n",
       "       'Expected End Date', 'Admission Date', 'Student Name', 'Lead Source',\n",
       "       'Counsellor', 'Counselor email', 'Gender', 'Admission Status', 'State',\n",
       "       'Status Date', 'Lead Stage', 'Package Amount', 'Placement Salary Range',\n",
       "       'Placement Job Title', 'Placement Information', 'Placement Employer',\n",
       "       'Placement Remark', 'Assigned Career center'],\n",
       "      dtype='object')"
      ]
     },
     "execution_count": 14,
     "metadata": {},
     "output_type": "execute_result"
    }
   ],
   "source": [
    "df.columns"
   ]
  },
  {
   "cell_type": "code",
   "execution_count": 15,
   "metadata": {},
   "outputs": [],
   "source": [
    "# Convert the data in the Placement Information column to 1 when it indicates Yes and 0 when it indicates No\n",
    "# DO NOT RUN THIS CELL MORE THAN ONCE!!!\n",
    "df[\"Placement Information\"].isnull().sum()\n",
    "df['Placement Information'] = df['Placement Information'].apply(lambda x: 1 if x == 'Yes' else 0)"
   ]
  },
  {
   "cell_type": "code",
   "execution_count": 16,
   "metadata": {},
   "outputs": [],
   "source": [
    "# The criteria is limited to students who completed their studies prior to June 30th, 2023\n",
    "df = df[~(df['Expected End Date'] >= pd.Timestamp(datetime.date(2024, 6, 30)))]"
   ]
  },
  {
   "cell_type": "code",
   "execution_count": 17,
   "metadata": {},
   "outputs": [],
   "source": [
    "# Assign variables to represent the fiscal year end dates according to the corresponding years\n",
    "end_2019 = pd.Timestamp(datetime.date(2019, 6, 30))\n",
    "end_2020 = pd.Timestamp(datetime.date(2020, 6, 30))\n",
    "end_2021 = pd.Timestamp(datetime.date(2021, 6, 30))\n",
    "end_2022 = pd.Timestamp(datetime.date(2022, 6, 30))\n",
    "end_2023 = pd.Timestamp(datetime.date(2023, 6, 30))"
   ]
  },
  {
   "cell_type": "code",
   "execution_count": 18,
   "metadata": {},
   "outputs": [],
   "source": [
    "end_2019 = pd.Timestamp(datetime.date(2019, 6, 30))\n",
    "end_2020 = pd.Timestamp(datetime.date(2020, 6, 30))\n",
    "end_2021 = pd.Timestamp(datetime.date(2021, 6, 30))\n",
    "end_2022 = pd.Timestamp(datetime.date(2022, 6, 30))\n",
    "end_2023 = pd.Timestamp(datetime.date(2023, 6, 30))\n",
    "end_2024 = pd.Timestamp(datetime.date(2024, 6, 30))"
   ]
  },
  {
   "cell_type": "code",
   "execution_count": 19,
   "metadata": {},
   "outputs": [],
   "source": [
    "# Create a function that applies conditions to assign dates to their respective Fiscal Years\n",
    "def fiscal_year(date):\n",
    "    if date <= end_2019:\n",
    "        return '2018'\n",
    "    elif date <= end_2020:\n",
    "        return '2019'\n",
    "    elif date <= end_2021:\n",
    "        return '2020'\n",
    "    elif date <= end_2022:\n",
    "        return '2021'\n",
    "    elif date <= end_2023:\n",
    "        return '2022'\n",
    "    elif date <= end_2024:\n",
    "        return '2023'\n",
    "    else:\n",
    "        return '2024'"
   ]
  },
  {
   "cell_type": "code",
   "execution_count": 20,
   "metadata": {},
   "outputs": [
    {
     "data": {
      "text/plain": [
       "Index(['Course Package', 'Academic Year', 'Inquiry Date', 'Registration No.',\n",
       "       'Admission Batch', 'Training Program Funding Source', 'Start Date',\n",
       "       'Expected End Date', 'Admission Date', 'Student Name', 'Lead Source',\n",
       "       'Counsellor', 'Counselor email', 'Gender', 'Admission Status', 'State',\n",
       "       'Status Date', 'Lead Stage', 'Package Amount', 'Placement Salary Range',\n",
       "       'Placement Job Title', 'Placement Information', 'Placement Employer',\n",
       "       'Placement Remark', 'Assigned Career center'],\n",
       "      dtype='object')"
      ]
     },
     "execution_count": 20,
     "metadata": {},
     "output_type": "execute_result"
    }
   ],
   "source": [
    "df.columns"
   ]
  },
  {
   "cell_type": "code",
   "execution_count": 21,
   "metadata": {},
   "outputs": [
    {
     "name": "stderr",
     "output_type": "stream",
     "text": [
      "/var/folders/pg/g6tg_cg936vg7skkz0z1140w0000gn/T/ipykernel_53024/4216016055.py:2: SettingWithCopyWarning: \n",
      "A value is trying to be set on a copy of a slice from a DataFrame.\n",
      "Try using .loc[row_indexer,col_indexer] = value instead\n",
      "\n",
      "See the caveats in the documentation: https://pandas.pydata.org/pandas-docs/stable/user_guide/indexing.html#returning-a-view-versus-a-copy\n",
      "  df['Enrolled FY'] = df['Start Date'].apply(fiscal_year)\n",
      "/var/folders/pg/g6tg_cg936vg7skkz0z1140w0000gn/T/ipykernel_53024/4216016055.py:3: SettingWithCopyWarning: \n",
      "A value is trying to be set on a copy of a slice from a DataFrame.\n",
      "Try using .loc[row_indexer,col_indexer] = value instead\n",
      "\n",
      "See the caveats in the documentation: https://pandas.pydata.org/pandas-docs/stable/user_guide/indexing.html#returning-a-view-versus-a-copy\n",
      "  df['Exited FY'] = df['Expected End Date'].apply(fiscal_year)\n"
     ]
    }
   ],
   "source": [
    "# Generate two columns for associating enrollment dates and end dates with a fiscal year\n",
    "df['Enrolled FY'] = df['Start Date'].apply(fiscal_year)\n",
    "df['Exited FY'] = df['Expected End Date'].apply(fiscal_year)"
   ]
  },
  {
   "cell_type": "code",
   "execution_count": 22,
   "metadata": {},
   "outputs": [],
   "source": [
    "# Filter out records where the expected end date is past today's date and Placement Information is 0\n",
    "current_date = pd.Timestamp(datetime.datetime.now().date())\n",
    "filtered_df = df[(df['Expected End Date'] < current_date) | (df['Placement Information'] == 1)]"
   ]
  },
  {
   "cell_type": "code",
   "execution_count": 46,
   "metadata": {},
   "outputs": [],
   "source": [
    "# Save the data to an Excel file for additional analysis using Tableau\n",
    "#filtered_df.to_excel('Current Year Performance_final.xlsx', index=False)"
   ]
  },
  {
   "cell_type": "code",
   "execution_count": 23,
   "metadata": {},
   "outputs": [],
   "source": [
    "df.set_index('Inquiry Date', inplace=True)"
   ]
  },
  {
   "cell_type": "code",
   "execution_count": 27,
   "metadata": {},
   "outputs": [],
   "source": [
    "inquiries_per_year = df['Student Name'].resample('AS').count()\n",
    "admissions_per_year = df[df['Admission Date'].notnull()]['Student Name'].resample('AS').count()\n"
   ]
  },
  {
   "cell_type": "code",
   "execution_count": 28,
   "metadata": {},
   "outputs": [
    {
     "data": {
      "text/plain": [
       "Inquiry Date\n",
       "2018-01-01    34\n",
       "2019-01-01    49\n",
       "2020-01-01    44\n",
       "2021-01-01    59\n",
       "2022-01-01    86\n",
       "2023-01-01    83\n",
       "2024-01-01     4\n",
       "Freq: AS-JAN, Name: Student Name, dtype: int64"
      ]
     },
     "execution_count": 28,
     "metadata": {},
     "output_type": "execute_result"
    }
   ],
   "source": [
    "admissions_per_year"
   ]
  },
  {
   "cell_type": "code",
   "execution_count": 29,
   "metadata": {},
   "outputs": [
    {
     "data": {
      "text/plain": [
       "Inquiry Date\n",
       "2018-01-01    34\n",
       "2019-01-01    49\n",
       "2020-01-01    44\n",
       "2021-01-01    59\n",
       "2022-01-01    86\n",
       "2023-01-01    83\n",
       "2024-01-01     4\n",
       "Freq: AS-JAN, Name: Student Name, dtype: int64"
      ]
     },
     "execution_count": 29,
     "metadata": {},
     "output_type": "execute_result"
    }
   ],
   "source": [
    "inquiries_per_year"
   ]
  },
  {
   "cell_type": "code",
   "execution_count": 30,
   "metadata": {},
   "outputs": [
    {
     "data": {
      "image/png": "[encoded data removed]",
      "text/plain": [
       "<Figure size 1000x600 with 1 Axes>"
      ]
     },
     "metadata": {},
     "output_type": "display_data"
    }
   ],
   "source": [
    "plt.figure(figsize=(10, 6))\n",
    "plt.plot(inquiries_per_year.index, inquiries_per_year.values, label='Inquiries')\n",
    "plt.plot(admissions_per_year.index, admissions_per_year.values, label='Admissions')\n",
    "plt.title('Trend of Student Inquiries and Admissions Over Academic Years')\n",
    "plt.xlabel('Academic Year')\n",
    "plt.ylabel('Count')\n",
    "plt.legend()\n",
    "plt.grid(True)\n",
    "plt.xticks(rotation=45)\n",
    "plt.tight_layout()\n",
    "plt.show()"
   ]
  },
  {
   "cell_type": "code",
   "execution_count": null,
   "metadata": {},
   "outputs": [],
   "source": []
  }
 ],
 "metadata": {
  "kernelspec": {
   "display_name": "base",
   "language": "python",
   "name": "python3"
  },
  "language_info": {
   "codemirror_mode": {
    "name": "ipython",
    "version": 3
   },
   "file_extension": ".py",
   "mimetype": "text/x-python",
   "name": "python",
   "nbconvert_exporter": "python",
   "pygments_lexer": "ipython3",
   "version": "3.9.13"
  },
  "orig_nbformat": 4
 },
 "nbformat": 4,
 "nbformat_minor": 2
}
